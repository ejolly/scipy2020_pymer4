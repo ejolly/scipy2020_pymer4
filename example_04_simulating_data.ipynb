{
 "cells": [
  {
   "cell_type": "code",
   "execution_count": 1,
   "metadata": {
    "Collapsed": "false",
    "collapsed": false,
    "jupyter": {
     "outputs_hidden": false
    }
   },
   "outputs": [],
   "source": [
    "# import some basic libraries\n",
    "import numpy as np\n",
    "%matplotlib inline"
   ]
  },
  {
   "cell_type": "markdown",
   "metadata": {
    "Collapsed": "false"
   },
   "source": [
    "# 4. Simulating Data\n",
    "\n",
    "`pymer4` comes with some easy-to-use functions for simulating data that can be modeled with `Lm` and multi-level data that can be modeled with `Lmer` or `Lm2`. These functions can be found in the `pymer4.simulate` module and are aptly named: `simulate_lm()` and `simulate_lmm()` respectively.\n",
    "\n",
    "`pymer4` gives you a lot of control over what you want your data to look like by setting properties such as:\n",
    "\n",
    "- Number of data points and number of coefficients\n",
    "- Specific coefficient values\n",
    "- Means and standard deviations of predictors\n",
    "- Correlations between predictors\n",
    "- Amount of error (noise) in the data\n",
    "- Number of groups/clusters (multi-level data only)\n",
    "- Variance of random effects (multi-level data only)\n"
   ]
  },
  {
   "cell_type": "markdown",
   "metadata": {
    "Collapsed": "false"
   },
   "source": [
    "## Generating standard regression data\n",
    "\n",
    "Generating data for a standard regression returns a pandas dataframe with outcome and predictor variables ready for use with `Lm()`, along with an array of coefficients used to produce the data.\n",
    "\n",
    "Let's generate 500 observations, with coefficient values of: 1.2, -40.1, and 3. We also have an intercept with a value of 100. The means of the columns of our design matrix (i.e. means of the predictors) will be: 10, 30, and 1. We'll also add noise from a normal distribution with mean = 0, and sd = 5. Any correlations between predictors are purely random.\n",
    "\n"
   ]
  },
  {
   "cell_type": "code",
   "execution_count": 3,
   "metadata": {
    "Collapsed": "false",
    "collapsed": false,
    "jupyter": {
     "outputs_hidden": false
    }
   },
   "outputs": [
    {
     "name": "stdout",
     "output_type": "stream",
     "text": [
      "True coefficients:\n",
      "[100, 1.2, -40.1, 3]\n",
      "\n",
      "Data:\n",
      "\n"
     ]
    },
    {
     "data": {
      "text/html": [
       "<div>\n",
       "<style scoped>\n",
       "    .dataframe tbody tr th:only-of-type {\n",
       "        vertical-align: middle;\n",
       "    }\n",
       "\n",
       "    .dataframe tbody tr th {\n",
       "        vertical-align: top;\n",
       "    }\n",
       "\n",
       "    .dataframe thead th {\n",
       "        text-align: right;\n",
       "    }\n",
       "</style>\n",
       "<table border=\"1\" class=\"dataframe\">\n",
       "  <thead>\n",
       "    <tr style=\"text-align: right;\">\n",
       "      <th></th>\n",
       "      <th>DV</th>\n",
       "      <th>IV1</th>\n",
       "      <th>IV2</th>\n",
       "      <th>IV3</th>\n",
       "    </tr>\n",
       "  </thead>\n",
       "  <tbody>\n",
       "    <tr>\n",
       "      <th>0</th>\n",
       "      <td>-1114.325941</td>\n",
       "      <td>11.331587</td>\n",
       "      <td>30.715279</td>\n",
       "      <td>-0.545400</td>\n",
       "    </tr>\n",
       "    <tr>\n",
       "      <th>1</th>\n",
       "      <td>-1116.406768</td>\n",
       "      <td>9.991616</td>\n",
       "      <td>30.621336</td>\n",
       "      <td>0.279914</td>\n",
       "    </tr>\n",
       "    <tr>\n",
       "      <th>2</th>\n",
       "      <td>-1088.455691</td>\n",
       "      <td>10.265512</td>\n",
       "      <td>30.108549</td>\n",
       "      <td>1.004291</td>\n",
       "    </tr>\n",
       "    <tr>\n",
       "      <th>3</th>\n",
       "      <td>-1092.013632</td>\n",
       "      <td>9.825400</td>\n",
       "      <td>30.433026</td>\n",
       "      <td>2.203037</td>\n",
       "    </tr>\n",
       "    <tr>\n",
       "      <th>4</th>\n",
       "      <td>-1124.899182</td>\n",
       "      <td>9.034934</td>\n",
       "      <td>31.028274</td>\n",
       "      <td>1.228630</td>\n",
       "    </tr>\n",
       "  </tbody>\n",
       "</table>\n",
       "</div>"
      ],
      "text/plain": [
       "            DV        IV1        IV2       IV3\n",
       "0 -1114.325941  11.331587  30.715279 -0.545400\n",
       "1 -1116.406768   9.991616  30.621336  0.279914\n",
       "2 -1088.455691  10.265512  30.108549  1.004291\n",
       "3 -1092.013632   9.825400  30.433026  2.203037\n",
       "4 -1124.899182   9.034934  31.028274  1.228630"
      ]
     },
     "execution_count": 3,
     "metadata": {},
     "output_type": "execute_result"
    }
   ],
   "source": [
    "# Import the simulation function\n",
    "from pymer4.simulate import simulate_lm\n",
    "# Also fix the random number generator for reproducibility\n",
    "np.random.seed(10)\n",
    "\n",
    "data, b = simulate_lm(\n",
    "    500, 3, coef_vals=[100, 1.2, -40.1, 3], mus=[10, 30, 1], noise_params=(0, 5)\n",
    ")\n",
    "print(f\"True coefficients:\\n{b}\\n\")\n",
    "print(f\"Data:\\n\")\n",
    "data.head()"
   ]
  },
  {
   "cell_type": "markdown",
   "metadata": {
    "Collapsed": "false"
   },
   "source": [
    "### Check the simulation\n",
    "Here are some checks you might do to make sure the data were correctly generated:\n",
    "\n"
   ]
  },
  {
   "cell_type": "markdown",
   "metadata": {
    "Collapsed": "false"
   },
   "source": [
    "#### Check the means of predictors\n",
    "\n"
   ]
  },
  {
   "cell_type": "code",
   "execution_count": 4,
   "metadata": {
    "Collapsed": "false",
    "collapsed": false,
    "jupyter": {
     "outputs_hidden": false
    }
   },
   "outputs": [
    {
     "data": {
      "text/plain": [
       "IV1    10.002923\n",
       "IV2    30.039709\n",
       "IV3     0.962177\n",
       "dtype: float64"
      ]
     },
     "execution_count": 4,
     "metadata": {},
     "output_type": "execute_result"
    }
   ],
   "source": [
    "data.iloc[:, 1:].mean(axis=0)"
   ]
  },
  {
   "cell_type": "markdown",
   "metadata": {
    "Collapsed": "false"
   },
   "source": [
    "#### Check correlations between predictors\n",
    "\n"
   ]
  },
  {
   "cell_type": "code",
   "execution_count": 5,
   "metadata": {
    "Collapsed": "false",
    "collapsed": false,
    "jupyter": {
     "outputs_hidden": false
    }
   },
   "outputs": [
    {
     "data": {
      "text/html": [
       "<div>\n",
       "<style scoped>\n",
       "    .dataframe tbody tr th:only-of-type {\n",
       "        vertical-align: middle;\n",
       "    }\n",
       "\n",
       "    .dataframe tbody tr th {\n",
       "        vertical-align: top;\n",
       "    }\n",
       "\n",
       "    .dataframe thead th {\n",
       "        text-align: right;\n",
       "    }\n",
       "</style>\n",
       "<table border=\"1\" class=\"dataframe\">\n",
       "  <thead>\n",
       "    <tr style=\"text-align: right;\">\n",
       "      <th></th>\n",
       "      <th>IV1</th>\n",
       "      <th>IV2</th>\n",
       "      <th>IV3</th>\n",
       "    </tr>\n",
       "  </thead>\n",
       "  <tbody>\n",
       "    <tr>\n",
       "      <th>IV1</th>\n",
       "      <td>1.000000</td>\n",
       "      <td>-0.013148</td>\n",
       "      <td>-0.010051</td>\n",
       "    </tr>\n",
       "    <tr>\n",
       "      <th>IV2</th>\n",
       "      <td>-0.013148</td>\n",
       "      <td>1.000000</td>\n",
       "      <td>-0.051630</td>\n",
       "    </tr>\n",
       "    <tr>\n",
       "      <th>IV3</th>\n",
       "      <td>-0.010051</td>\n",
       "      <td>-0.051630</td>\n",
       "      <td>1.000000</td>\n",
       "    </tr>\n",
       "  </tbody>\n",
       "</table>\n",
       "</div>"
      ],
      "text/plain": [
       "          IV1       IV2       IV3\n",
       "IV1  1.000000 -0.013148 -0.010051\n",
       "IV2 -0.013148  1.000000 -0.051630\n",
       "IV3 -0.010051 -0.051630  1.000000"
      ]
     },
     "execution_count": 5,
     "metadata": {},
     "output_type": "execute_result"
    }
   ],
   "source": [
    "data.iloc[:, 1:].corr()"
   ]
  },
  {
   "cell_type": "markdown",
   "metadata": {
    "Collapsed": "false"
   },
   "source": [
    "#### Check coefficient recovery\n",
    "\n"
   ]
  },
  {
   "cell_type": "code",
   "execution_count": 6,
   "metadata": {
    "Collapsed": "false",
    "collapsed": false,
    "jupyter": {
     "outputs_hidden": false
    }
   },
   "outputs": [
    {
     "data": {
      "text/plain": [
       "Intercept    95.474548\n",
       "IV1           1.342881\n",
       "IV2         -40.001760\n",
       "IV3           2.859270\n",
       "Name: Estimate, dtype: float64"
      ]
     },
     "execution_count": 6,
     "metadata": {},
     "output_type": "execute_result"
    }
   ],
   "source": [
    "from pymer4.models import Lm\n",
    "\n",
    "model = Lm(\"DV ~ IV1+IV2+IV3\", data=data)\n",
    "# Supress the automatic summary\n",
    "model.fit(summarize=False)\n",
    "model.coefs.loc[:, \"Estimate\"]"
   ]
  },
  {
   "cell_type": "markdown",
   "metadata": {
    "Collapsed": "false"
   },
   "source": [
    "### More options\n",
    "\n",
    "You have the option of being as general or specific as you like when generating data. Here's a simpler example that generates 100 observations with 5 predictors from a standard normal distribution, i.e. mean = 0, sd = 1 with random correlations between predictors. `pymer4` will randomly decide what to set the coefficient values to.\n",
    "\n"
   ]
  },
  {
   "cell_type": "code",
   "execution_count": 7,
   "metadata": {
    "Collapsed": "false",
    "collapsed": false,
    "jupyter": {
     "outputs_hidden": false
    }
   },
   "outputs": [
    {
     "name": "stdout",
     "output_type": "stream",
     "text": [
      "True coefficients:\n",
      "[0.05682538 0.04259271 0.63572183 0.2399937  0.08991266 0.17923857]\n",
      "\n",
      "Data:\n",
      "\n"
     ]
    },
    {
     "data": {
      "text/html": [
       "<div>\n",
       "<style scoped>\n",
       "    .dataframe tbody tr th:only-of-type {\n",
       "        vertical-align: middle;\n",
       "    }\n",
       "\n",
       "    .dataframe tbody tr th {\n",
       "        vertical-align: top;\n",
       "    }\n",
       "\n",
       "    .dataframe thead th {\n",
       "        text-align: right;\n",
       "    }\n",
       "</style>\n",
       "<table border=\"1\" class=\"dataframe\">\n",
       "  <thead>\n",
       "    <tr style=\"text-align: right;\">\n",
       "      <th></th>\n",
       "      <th>DV</th>\n",
       "      <th>IV1</th>\n",
       "      <th>IV2</th>\n",
       "      <th>IV3</th>\n",
       "      <th>IV4</th>\n",
       "      <th>IV5</th>\n",
       "    </tr>\n",
       "  </thead>\n",
       "  <tbody>\n",
       "    <tr>\n",
       "      <th>0</th>\n",
       "      <td>-1.619562</td>\n",
       "      <td>-0.063833</td>\n",
       "      <td>-0.471785</td>\n",
       "      <td>-0.419493</td>\n",
       "      <td>1.270657</td>\n",
       "      <td>-1.576390</td>\n",
       "    </tr>\n",
       "    <tr>\n",
       "      <th>1</th>\n",
       "      <td>1.493992</td>\n",
       "      <td>0.670564</td>\n",
       "      <td>1.008049</td>\n",
       "      <td>1.803014</td>\n",
       "      <td>-0.040395</td>\n",
       "      <td>-0.621471</td>\n",
       "    </tr>\n",
       "    <tr>\n",
       "      <th>2</th>\n",
       "      <td>-1.630406</td>\n",
       "      <td>-1.527920</td>\n",
       "      <td>0.199663</td>\n",
       "      <td>-1.006917</td>\n",
       "      <td>0.062326</td>\n",
       "      <td>-0.190250</td>\n",
       "    </tr>\n",
       "    <tr>\n",
       "      <th>3</th>\n",
       "      <td>-0.315245</td>\n",
       "      <td>0.424936</td>\n",
       "      <td>-0.171909</td>\n",
       "      <td>-0.144126</td>\n",
       "      <td>1.227489</td>\n",
       "      <td>0.078798</td>\n",
       "    </tr>\n",
       "    <tr>\n",
       "      <th>4</th>\n",
       "      <td>1.911261</td>\n",
       "      <td>1.242033</td>\n",
       "      <td>-0.811868</td>\n",
       "      <td>0.446330</td>\n",
       "      <td>0.356810</td>\n",
       "      <td>-0.437578</td>\n",
       "    </tr>\n",
       "  </tbody>\n",
       "</table>\n",
       "</div>"
      ],
      "text/plain": [
       "         DV       IV1       IV2       IV3       IV4       IV5\n",
       "0 -1.619562 -0.063833 -0.471785 -0.419493  1.270657 -1.576390\n",
       "1  1.493992  0.670564  1.008049  1.803014 -0.040395 -0.621471\n",
       "2 -1.630406 -1.527920  0.199663 -1.006917  0.062326 -0.190250\n",
       "3 -0.315245  0.424936 -0.171909 -0.144126  1.227489  0.078798\n",
       "4  1.911261  1.242033 -0.811868  0.446330  0.356810 -0.437578"
      ]
     },
     "execution_count": 7,
     "metadata": {},
     "output_type": "execute_result"
    }
   ],
   "source": [
    "data, b = simulate_lm(100, 5)\n",
    "print(f\"True coefficients:\\n{b}\\n\")\n",
    "print(f\"Data:\\n\")\n",
    "data.head()"
   ]
  },
  {
   "cell_type": "markdown",
   "metadata": {
    "Collapsed": "false"
   },
   "source": [
    "Generating multi-level regression data\n",
    "--------------------------------------\n",
    "Generating data for a multi-level regression is just as simple and returns a pandas dataframe with outcome and predictor variables ready for use with `Lmer()`, another dataframe with group/cluster level coefficients (i.e. BLUPs), and a vector of population-level coefficients.\n",
    "\n",
    "Here's an example generating 5000 observations, organized as 100 groups with 50 observations each. We'll have three predictors with the coefficients: 1.8, -2, and 10. We also have an intercept with a coefficient of 4. The means of the columns of our design matrix (i.e. means of the predictors) will be: 10, 30, and 2. We'll also introduce correlations between our predictors of with a mean r of .15. We'll leave the default of standard normal noise i.e., mean = 0, and sd = 1.\n",
    "\n"
   ]
  },
  {
   "cell_type": "code",
   "execution_count": 8,
   "metadata": {
    "Collapsed": "false",
    "collapsed": false,
    "jupyter": {
     "outputs_hidden": false
    }
   },
   "outputs": [
    {
     "name": "stdout",
     "output_type": "stream",
     "text": [
      "True coefficients:\n",
      "[4.0, 1.8, -2, 10]\n",
      "\n",
      "BLUPs:\n",
      "\n"
     ]
    },
    {
     "data": {
      "text/html": [
       "<div>\n",
       "<style scoped>\n",
       "    .dataframe tbody tr th:only-of-type {\n",
       "        vertical-align: middle;\n",
       "    }\n",
       "\n",
       "    .dataframe tbody tr th {\n",
       "        vertical-align: top;\n",
       "    }\n",
       "\n",
       "    .dataframe thead th {\n",
       "        text-align: right;\n",
       "    }\n",
       "</style>\n",
       "<table border=\"1\" class=\"dataframe\">\n",
       "  <thead>\n",
       "    <tr style=\"text-align: right;\">\n",
       "      <th></th>\n",
       "      <th>Intercept</th>\n",
       "      <th>IV1</th>\n",
       "      <th>IV2</th>\n",
       "      <th>IV3</th>\n",
       "    </tr>\n",
       "  </thead>\n",
       "  <tbody>\n",
       "    <tr>\n",
       "      <th>Grp1</th>\n",
       "      <td>4.118082</td>\n",
       "      <td>1.908896</td>\n",
       "      <td>-1.769091</td>\n",
       "      <td>9.887560</td>\n",
       "    </tr>\n",
       "    <tr>\n",
       "      <th>Grp2</th>\n",
       "      <td>4.250422</td>\n",
       "      <td>1.898551</td>\n",
       "      <td>-1.513031</td>\n",
       "      <td>10.359999</td>\n",
       "    </tr>\n",
       "    <tr>\n",
       "      <th>Grp3</th>\n",
       "      <td>4.076250</td>\n",
       "      <td>1.858520</td>\n",
       "      <td>-2.267093</td>\n",
       "      <td>10.168399</td>\n",
       "    </tr>\n",
       "    <tr>\n",
       "      <th>Grp4</th>\n",
       "      <td>3.830477</td>\n",
       "      <td>1.776946</td>\n",
       "      <td>-1.921247</td>\n",
       "      <td>9.583227</td>\n",
       "    </tr>\n",
       "    <tr>\n",
       "      <th>Grp5</th>\n",
       "      <td>4.141466</td>\n",
       "      <td>2.170102</td>\n",
       "      <td>-1.892564</td>\n",
       "      <td>10.349354</td>\n",
       "    </tr>\n",
       "  </tbody>\n",
       "</table>\n",
       "</div>"
      ],
      "text/plain": [
       "      Intercept       IV1       IV2        IV3\n",
       "Grp1   4.118082  1.908896 -1.769091   9.887560\n",
       "Grp2   4.250422  1.898551 -1.513031  10.359999\n",
       "Grp3   4.076250  1.858520 -2.267093  10.168399\n",
       "Grp4   3.830477  1.776946 -1.921247   9.583227\n",
       "Grp5   4.141466  2.170102 -1.892564  10.349354"
      ]
     },
     "execution_count": 8,
     "metadata": {},
     "output_type": "execute_result"
    },
    {
     "name": "stdout",
     "output_type": "stream",
     "text": [
      "Data:\n",
      "\n"
     ]
    },
    {
     "data": {
      "text/html": [
       "<div>\n",
       "<style scoped>\n",
       "    .dataframe tbody tr th:only-of-type {\n",
       "        vertical-align: middle;\n",
       "    }\n",
       "\n",
       "    .dataframe tbody tr th {\n",
       "        vertical-align: top;\n",
       "    }\n",
       "\n",
       "    .dataframe thead th {\n",
       "        text-align: right;\n",
       "    }\n",
       "</style>\n",
       "<table border=\"1\" class=\"dataframe\">\n",
       "  <thead>\n",
       "    <tr style=\"text-align: right;\">\n",
       "      <th></th>\n",
       "      <th>DV</th>\n",
       "      <th>IV1</th>\n",
       "      <th>IV2</th>\n",
       "      <th>IV3</th>\n",
       "      <th>Group</th>\n",
       "    </tr>\n",
       "  </thead>\n",
       "  <tbody>\n",
       "    <tr>\n",
       "      <th>0</th>\n",
       "      <td>-4.179066</td>\n",
       "      <td>9.383356</td>\n",
       "      <td>29.476310</td>\n",
       "      <td>2.438898</td>\n",
       "      <td>1.0</td>\n",
       "    </tr>\n",
       "    <tr>\n",
       "      <th>1</th>\n",
       "      <td>8.983399</td>\n",
       "      <td>12.129908</td>\n",
       "      <td>31.362946</td>\n",
       "      <td>3.859619</td>\n",
       "      <td>1.0</td>\n",
       "    </tr>\n",
       "    <tr>\n",
       "      <th>2</th>\n",
       "      <td>-13.442347</td>\n",
       "      <td>10.061723</td>\n",
       "      <td>29.302197</td>\n",
       "      <td>1.580586</td>\n",
       "      <td>1.0</td>\n",
       "    </tr>\n",
       "    <tr>\n",
       "      <th>3</th>\n",
       "      <td>-10.241627</td>\n",
       "      <td>10.758237</td>\n",
       "      <td>29.259286</td>\n",
       "      <td>1.631702</td>\n",
       "      <td>1.0</td>\n",
       "    </tr>\n",
       "    <tr>\n",
       "      <th>4</th>\n",
       "      <td>-15.502489</td>\n",
       "      <td>11.585787</td>\n",
       "      <td>30.199303</td>\n",
       "      <td>1.076930</td>\n",
       "      <td>1.0</td>\n",
       "    </tr>\n",
       "  </tbody>\n",
       "</table>\n",
       "</div>"
      ],
      "text/plain": [
       "          DV        IV1        IV2       IV3  Group\n",
       "0  -4.179066   9.383356  29.476310  2.438898    1.0\n",
       "1   8.983399  12.129908  31.362946  3.859619    1.0\n",
       "2 -13.442347  10.061723  29.302197  1.580586    1.0\n",
       "3 -10.241627  10.758237  29.259286  1.631702    1.0\n",
       "4 -15.502489  11.585787  30.199303  1.076930    1.0"
      ]
     },
     "execution_count": 8,
     "metadata": {},
     "output_type": "execute_result"
    }
   ],
   "source": [
    "from pymer4.simulate import simulate_lmm\n",
    "\n",
    "num_obs = 50\n",
    "num_coef = 3\n",
    "num_grps = 100\n",
    "mus = [10.0, 30.0, 2.0]\n",
    "coef_vals = [4.0, 1.8, -2, 10]\n",
    "corrs = 0.15\n",
    "\n",
    "data, blups, b = simulate_lmm(\n",
    "    num_obs, num_coef, num_grps, coef_vals=coef_vals, mus=mus, corrs=corrs\n",
    ")\n",
    "\n",
    "print(f\"True coefficients:\\n{b}\\n\")\n",
    "print(f\"BLUPs:\\n\")\n",
    "blups.head()\n",
    "print(f\"Data:\\n\")\n",
    "data.head()"
   ]
  },
  {
   "cell_type": "markdown",
   "metadata": {
    "Collapsed": "false"
   },
   "source": [
    "### Check the simulation\n",
    "\n",
    "Again here are some checks you might do to make sure the data were correctly generated (by default lmm data will generally be a bit noisier due to within and across group/cluster variance; see the API for how to customize this):\n",
    "\n"
   ]
  },
  {
   "cell_type": "code",
   "execution_count": 9,
   "metadata": {
    "Collapsed": "false",
    "collapsed": false,
    "jupyter": {
     "outputs_hidden": false
    }
   },
   "outputs": [],
   "source": [
    "# Group the data before running checks\n",
    "group_data = data.groupby(\"Group\")"
   ]
  },
  {
   "cell_type": "markdown",
   "metadata": {
    "Collapsed": "false"
   },
   "source": [
    "#### Check mean of predictors within each group\n",
    "\n"
   ]
  },
  {
   "cell_type": "code",
   "execution_count": 10,
   "metadata": {
    "Collapsed": "false",
    "collapsed": false,
    "jupyter": {
     "outputs_hidden": false
    }
   },
   "outputs": [
    {
     "data": {
      "text/html": [
       "<div>\n",
       "<style scoped>\n",
       "    .dataframe tbody tr th:only-of-type {\n",
       "        vertical-align: middle;\n",
       "    }\n",
       "\n",
       "    .dataframe tbody tr th {\n",
       "        vertical-align: top;\n",
       "    }\n",
       "\n",
       "    .dataframe thead th {\n",
       "        text-align: right;\n",
       "    }\n",
       "</style>\n",
       "<table border=\"1\" class=\"dataframe\">\n",
       "  <thead>\n",
       "    <tr style=\"text-align: right;\">\n",
       "      <th></th>\n",
       "      <th>IV1</th>\n",
       "      <th>IV2</th>\n",
       "      <th>IV3</th>\n",
       "    </tr>\n",
       "    <tr>\n",
       "      <th>Group</th>\n",
       "      <th></th>\n",
       "      <th></th>\n",
       "      <th></th>\n",
       "    </tr>\n",
       "  </thead>\n",
       "  <tbody>\n",
       "    <tr>\n",
       "      <th>1.0</th>\n",
       "      <td>9.901321</td>\n",
       "      <td>30.039194</td>\n",
       "      <td>1.758267</td>\n",
       "    </tr>\n",
       "    <tr>\n",
       "      <th>2.0</th>\n",
       "      <td>9.976000</td>\n",
       "      <td>30.104749</td>\n",
       "      <td>1.984167</td>\n",
       "    </tr>\n",
       "    <tr>\n",
       "      <th>3.0</th>\n",
       "      <td>10.222086</td>\n",
       "      <td>30.194326</td>\n",
       "      <td>1.905938</td>\n",
       "    </tr>\n",
       "    <tr>\n",
       "      <th>4.0</th>\n",
       "      <td>9.879292</td>\n",
       "      <td>30.215769</td>\n",
       "      <td>2.130761</td>\n",
       "    </tr>\n",
       "    <tr>\n",
       "      <th>5.0</th>\n",
       "      <td>9.903163</td>\n",
       "      <td>30.274854</td>\n",
       "      <td>1.941497</td>\n",
       "    </tr>\n",
       "    <tr>\n",
       "      <th>6.0</th>\n",
       "      <td>9.937782</td>\n",
       "      <td>29.926481</td>\n",
       "      <td>2.213728</td>\n",
       "    </tr>\n",
       "    <tr>\n",
       "      <th>7.0</th>\n",
       "      <td>10.114733</td>\n",
       "      <td>30.115600</td>\n",
       "      <td>2.134334</td>\n",
       "    </tr>\n",
       "    <tr>\n",
       "      <th>8.0</th>\n",
       "      <td>10.037892</td>\n",
       "      <td>30.024482</td>\n",
       "      <td>2.051492</td>\n",
       "    </tr>\n",
       "    <tr>\n",
       "      <th>9.0</th>\n",
       "      <td>9.995449</td>\n",
       "      <td>29.864299</td>\n",
       "      <td>2.008659</td>\n",
       "    </tr>\n",
       "    <tr>\n",
       "      <th>10.0</th>\n",
       "      <td>9.887533</td>\n",
       "      <td>30.275473</td>\n",
       "      <td>2.065386</td>\n",
       "    </tr>\n",
       "    <tr>\n",
       "      <th>...</th>\n",
       "      <td>...</td>\n",
       "      <td>...</td>\n",
       "      <td>...</td>\n",
       "    </tr>\n",
       "    <tr>\n",
       "      <th>91.0</th>\n",
       "      <td>10.051176</td>\n",
       "      <td>30.219064</td>\n",
       "      <td>1.932299</td>\n",
       "    </tr>\n",
       "    <tr>\n",
       "      <th>92.0</th>\n",
       "      <td>10.265054</td>\n",
       "      <td>30.207848</td>\n",
       "      <td>1.995366</td>\n",
       "    </tr>\n",
       "    <tr>\n",
       "      <th>93.0</th>\n",
       "      <td>9.882821</td>\n",
       "      <td>30.214004</td>\n",
       "      <td>1.919727</td>\n",
       "    </tr>\n",
       "    <tr>\n",
       "      <th>94.0</th>\n",
       "      <td>9.726822</td>\n",
       "      <td>29.883765</td>\n",
       "      <td>2.093599</td>\n",
       "    </tr>\n",
       "    <tr>\n",
       "      <th>95.0</th>\n",
       "      <td>9.863421</td>\n",
       "      <td>29.864791</td>\n",
       "      <td>1.785147</td>\n",
       "    </tr>\n",
       "    <tr>\n",
       "      <th>96.0</th>\n",
       "      <td>9.943912</td>\n",
       "      <td>29.950404</td>\n",
       "      <td>1.952312</td>\n",
       "    </tr>\n",
       "    <tr>\n",
       "      <th>97.0</th>\n",
       "      <td>10.047164</td>\n",
       "      <td>29.978932</td>\n",
       "      <td>2.231869</td>\n",
       "    </tr>\n",
       "    <tr>\n",
       "      <th>98.0</th>\n",
       "      <td>9.997547</td>\n",
       "      <td>30.018299</td>\n",
       "      <td>2.205165</td>\n",
       "    </tr>\n",
       "    <tr>\n",
       "      <th>99.0</th>\n",
       "      <td>10.213984</td>\n",
       "      <td>30.044085</td>\n",
       "      <td>1.965605</td>\n",
       "    </tr>\n",
       "    <tr>\n",
       "      <th>100.0</th>\n",
       "      <td>9.965338</td>\n",
       "      <td>30.120661</td>\n",
       "      <td>1.870400</td>\n",
       "    </tr>\n",
       "  </tbody>\n",
       "</table>\n",
       "<p>100 rows × 3 columns</p>\n",
       "</div>"
      ],
      "text/plain": [
       "             IV1        IV2       IV3\n",
       "Group                                \n",
       "1.0     9.901321  30.039194  1.758267\n",
       "2.0     9.976000  30.104749  1.984167\n",
       "3.0    10.222086  30.194326  1.905938\n",
       "4.0     9.879292  30.215769  2.130761\n",
       "5.0     9.903163  30.274854  1.941497\n",
       "6.0     9.937782  29.926481  2.213728\n",
       "7.0    10.114733  30.115600  2.134334\n",
       "8.0    10.037892  30.024482  2.051492\n",
       "9.0     9.995449  29.864299  2.008659\n",
       "10.0    9.887533  30.275473  2.065386\n",
       "...          ...        ...       ...\n",
       "91.0   10.051176  30.219064  1.932299\n",
       "92.0   10.265054  30.207848  1.995366\n",
       "93.0    9.882821  30.214004  1.919727\n",
       "94.0    9.726822  29.883765  2.093599\n",
       "95.0    9.863421  29.864791  1.785147\n",
       "96.0    9.943912  29.950404  1.952312\n",
       "97.0   10.047164  29.978932  2.231869\n",
       "98.0    9.997547  30.018299  2.205165\n",
       "99.0   10.213984  30.044085  1.965605\n",
       "100.0   9.965338  30.120661  1.870400\n",
       "\n",
       "[100 rows x 3 columns]"
      ]
     },
     "execution_count": 10,
     "metadata": {},
     "output_type": "execute_result"
    }
   ],
   "source": [
    "group_data.apply(lambda grp: grp.iloc[:, 1:-1].mean(axis=0))"
   ]
  },
  {
   "cell_type": "markdown",
   "metadata": {
    "Collapsed": "false"
   },
   "source": [
    "#### Check correlations between predictors within each group\n",
    "\n"
   ]
  },
  {
   "cell_type": "code",
   "execution_count": 11,
   "metadata": {
    "Collapsed": "false",
    "collapsed": false,
    "jupyter": {
     "outputs_hidden": false
    }
   },
   "outputs": [
    {
     "data": {
      "text/html": [
       "<div>\n",
       "<style scoped>\n",
       "    .dataframe tbody tr th:only-of-type {\n",
       "        vertical-align: middle;\n",
       "    }\n",
       "\n",
       "    .dataframe tbody tr th {\n",
       "        vertical-align: top;\n",
       "    }\n",
       "\n",
       "    .dataframe thead th {\n",
       "        text-align: right;\n",
       "    }\n",
       "</style>\n",
       "<table border=\"1\" class=\"dataframe\">\n",
       "  <thead>\n",
       "    <tr style=\"text-align: right;\">\n",
       "      <th></th>\n",
       "      <th></th>\n",
       "      <th>IV1</th>\n",
       "      <th>IV2</th>\n",
       "      <th>IV3</th>\n",
       "    </tr>\n",
       "    <tr>\n",
       "      <th>Group</th>\n",
       "      <th></th>\n",
       "      <th></th>\n",
       "      <th></th>\n",
       "      <th></th>\n",
       "    </tr>\n",
       "  </thead>\n",
       "  <tbody>\n",
       "    <tr>\n",
       "      <th rowspan=\"3\" valign=\"top\">1.0</th>\n",
       "      <th>IV1</th>\n",
       "      <td>1.000000</td>\n",
       "      <td>0.272855</td>\n",
       "      <td>0.303139</td>\n",
       "    </tr>\n",
       "    <tr>\n",
       "      <th>IV2</th>\n",
       "      <td>0.272855</td>\n",
       "      <td>1.000000</td>\n",
       "      <td>0.134635</td>\n",
       "    </tr>\n",
       "    <tr>\n",
       "      <th>IV3</th>\n",
       "      <td>0.303139</td>\n",
       "      <td>0.134635</td>\n",
       "      <td>1.000000</td>\n",
       "    </tr>\n",
       "    <tr>\n",
       "      <th rowspan=\"3\" valign=\"top\">2.0</th>\n",
       "      <th>IV1</th>\n",
       "      <td>1.000000</td>\n",
       "      <td>0.079445</td>\n",
       "      <td>0.373448</td>\n",
       "    </tr>\n",
       "    <tr>\n",
       "      <th>IV2</th>\n",
       "      <td>0.079445</td>\n",
       "      <td>1.000000</td>\n",
       "      <td>0.002340</td>\n",
       "    </tr>\n",
       "    <tr>\n",
       "      <th>IV3</th>\n",
       "      <td>0.373448</td>\n",
       "      <td>0.002340</td>\n",
       "      <td>1.000000</td>\n",
       "    </tr>\n",
       "    <tr>\n",
       "      <th rowspan=\"3\" valign=\"top\">3.0</th>\n",
       "      <th>IV1</th>\n",
       "      <td>1.000000</td>\n",
       "      <td>0.162855</td>\n",
       "      <td>-0.146080</td>\n",
       "    </tr>\n",
       "    <tr>\n",
       "      <th>IV2</th>\n",
       "      <td>0.162855</td>\n",
       "      <td>1.000000</td>\n",
       "      <td>0.093127</td>\n",
       "    </tr>\n",
       "    <tr>\n",
       "      <th>IV3</th>\n",
       "      <td>-0.146080</td>\n",
       "      <td>0.093127</td>\n",
       "      <td>1.000000</td>\n",
       "    </tr>\n",
       "    <tr>\n",
       "      <th>4.0</th>\n",
       "      <th>IV1</th>\n",
       "      <td>1.000000</td>\n",
       "      <td>0.260039</td>\n",
       "      <td>0.334340</td>\n",
       "    </tr>\n",
       "    <tr>\n",
       "      <th>...</th>\n",
       "      <th>...</th>\n",
       "      <td>...</td>\n",
       "      <td>...</td>\n",
       "      <td>...</td>\n",
       "    </tr>\n",
       "    <tr>\n",
       "      <th>97.0</th>\n",
       "      <th>IV3</th>\n",
       "      <td>0.032587</td>\n",
       "      <td>0.150536</td>\n",
       "      <td>1.000000</td>\n",
       "    </tr>\n",
       "    <tr>\n",
       "      <th rowspan=\"3\" valign=\"top\">98.0</th>\n",
       "      <th>IV1</th>\n",
       "      <td>1.000000</td>\n",
       "      <td>0.066689</td>\n",
       "      <td>0.102534</td>\n",
       "    </tr>\n",
       "    <tr>\n",
       "      <th>IV2</th>\n",
       "      <td>0.066689</td>\n",
       "      <td>1.000000</td>\n",
       "      <td>0.200006</td>\n",
       "    </tr>\n",
       "    <tr>\n",
       "      <th>IV3</th>\n",
       "      <td>0.102534</td>\n",
       "      <td>0.200006</td>\n",
       "      <td>1.000000</td>\n",
       "    </tr>\n",
       "    <tr>\n",
       "      <th rowspan=\"3\" valign=\"top\">99.0</th>\n",
       "      <th>IV1</th>\n",
       "      <td>1.000000</td>\n",
       "      <td>0.113312</td>\n",
       "      <td>0.055161</td>\n",
       "    </tr>\n",
       "    <tr>\n",
       "      <th>IV2</th>\n",
       "      <td>0.113312</td>\n",
       "      <td>1.000000</td>\n",
       "      <td>0.235816</td>\n",
       "    </tr>\n",
       "    <tr>\n",
       "      <th>IV3</th>\n",
       "      <td>0.055161</td>\n",
       "      <td>0.235816</td>\n",
       "      <td>1.000000</td>\n",
       "    </tr>\n",
       "    <tr>\n",
       "      <th rowspan=\"3\" valign=\"top\">100.0</th>\n",
       "      <th>IV1</th>\n",
       "      <td>1.000000</td>\n",
       "      <td>0.317120</td>\n",
       "      <td>0.261968</td>\n",
       "    </tr>\n",
       "    <tr>\n",
       "      <th>IV2</th>\n",
       "      <td>0.317120</td>\n",
       "      <td>1.000000</td>\n",
       "      <td>0.139132</td>\n",
       "    </tr>\n",
       "    <tr>\n",
       "      <th>IV3</th>\n",
       "      <td>0.261968</td>\n",
       "      <td>0.139132</td>\n",
       "      <td>1.000000</td>\n",
       "    </tr>\n",
       "  </tbody>\n",
       "</table>\n",
       "<p>300 rows × 3 columns</p>\n",
       "</div>"
      ],
      "text/plain": [
       "                IV1       IV2       IV3\n",
       "Group                                  \n",
       "1.0   IV1  1.000000  0.272855  0.303139\n",
       "      IV2  0.272855  1.000000  0.134635\n",
       "      IV3  0.303139  0.134635  1.000000\n",
       "2.0   IV1  1.000000  0.079445  0.373448\n",
       "      IV2  0.079445  1.000000  0.002340\n",
       "      IV3  0.373448  0.002340  1.000000\n",
       "3.0   IV1  1.000000  0.162855 -0.146080\n",
       "      IV2  0.162855  1.000000  0.093127\n",
       "      IV3 -0.146080  0.093127  1.000000\n",
       "4.0   IV1  1.000000  0.260039  0.334340\n",
       "...             ...       ...       ...\n",
       "97.0  IV3  0.032587  0.150536  1.000000\n",
       "98.0  IV1  1.000000  0.066689  0.102534\n",
       "      IV2  0.066689  1.000000  0.200006\n",
       "      IV3  0.102534  0.200006  1.000000\n",
       "99.0  IV1  1.000000  0.113312  0.055161\n",
       "      IV2  0.113312  1.000000  0.235816\n",
       "      IV3  0.055161  0.235816  1.000000\n",
       "100.0 IV1  1.000000  0.317120  0.261968\n",
       "      IV2  0.317120  1.000000  0.139132\n",
       "      IV3  0.261968  0.139132  1.000000\n",
       "\n",
       "[300 rows x 3 columns]"
      ]
     },
     "execution_count": 11,
     "metadata": {},
     "output_type": "execute_result"
    }
   ],
   "source": [
    "group_data.apply(lambda grp: grp.iloc[:, 1:-1].corr())"
   ]
  },
  {
   "cell_type": "markdown",
   "metadata": {
    "Collapsed": "false"
   },
   "source": [
    "#### Check coefficient recovery\n",
    "\n"
   ]
  },
  {
   "cell_type": "code",
   "execution_count": 12,
   "metadata": {
    "Collapsed": "false",
    "collapsed": false,
    "jupyter": {
     "outputs_hidden": false
    }
   },
   "outputs": [
    {
     "data": {
      "text/plain": [
       "(Intercept)     4.082829\n",
       "IV1             1.845101\n",
       "IV2            -2.007044\n",
       "IV3            10.023242\n",
       "Name: Estimate, dtype: float64"
      ]
     },
     "execution_count": 12,
     "metadata": {},
     "output_type": "execute_result"
    }
   ],
   "source": [
    "from pymer4.models import Lmer\n",
    "\n",
    "model = Lmer('DV ~ IV1+IV2+IV3 + (1|Group)', data=data)\n",
    "model.fit(summarize=False)\n",
    "model.coefs.loc[:, \"Estimate\"]"
   ]
  }
 ],
 "metadata": {
  "kernelspec": {
   "display_name": "Python 3",
   "language": "python",
   "name": "python3"
  },
  "language_info": {
   "codemirror_mode": {
    "name": "ipython",
    "version": 3
   },
   "file_extension": ".py",
   "mimetype": "text/x-python",
   "name": "python",
   "nbconvert_exporter": "python",
   "pygments_lexer": "ipython3",
   "version": "3.7.6"
  }
 },
 "nbformat": 4,
 "nbformat_minor": 4
}
